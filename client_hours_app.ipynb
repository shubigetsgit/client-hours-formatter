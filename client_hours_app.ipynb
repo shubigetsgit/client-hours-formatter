{
 "cells": [
  {
   "cell_type": "code",
   "execution_count": null,
   "id": "0881053f",
   "metadata": {},
   "outputs": [],
   "source": [
    "import streamlit as st\n",
    "import pandas as pd\n",
    "from datetime import datetime\n",
    "\n",
    "st.title(\"📅 Client Hours Formatter\")\n",
    "\n",
    "st.write(\"Upload a file or paste your data below in the format: `Harmony - 2`\")\n",
    "\n",
    "date_input = st.date_input(\"Pick a date (for pasted input)\", value=None)\n",
    "raw_text = st.text_area(\"Paste daily entries here (one per line)\", height=200)\n",
    "\n",
    "uploaded_file = st.file_uploader(\"OR upload a CSV with columns: Date, Client, Hours\")\n",
    "\n",
    "def parse_text_block(raw_text, date_input):\n",
    "    rows = []\n",
    "    if not date_input or not raw_text:\n",
    "        return pd.DataFrame()\n",
    "\n",
    "    lines = raw_text.strip().split('\\n')\n",
    "    for line in lines:\n",
    "        if '-' in line:\n",
    "            parts = line.split('-')\n",
    "            client = parts[0].strip()\n",
    "            hrs = float(parts[1].strip())\n",
    "            day = f\"{date_input.day} {date_input.strftime('%a').upper()}\"\n",
    "            rows.append([client, hrs, day])\n",
    "    return pd.DataFrame(rows, columns=[\"CLIENT\", \"HRS\", \"DAY\"])\n",
    "\n",
    "if raw_text and date_input:\n",
    "    df = parse_text_block(raw_text, date_input)\n",
    "    st.success(\"Parsed successfully!\")\n",
    "    st.dataframe(df.sort_values(by=[\"CLIENT\", \"DAY\"]))\n",
    "\n",
    "elif uploaded_file:\n",
    "    try:\n",
    "        df = pd.read_csv(uploaded_file)\n",
    "        df['DAY'] = pd.to_datetime(df['Date']).apply(lambda x: f\"{x.day} {x.strftime('%a').upper()}\")\n",
    "        df.rename(columns={\"Client\": \"CLIENT\", \"Hours\": \"HRS\"}, inplace=True)\n",
    "        df_final = df[[\"CLIENT\", \"HRS\", \"DAY\"]].sort_values(by=[\"CLIENT\", \"DAY\"])\n",
    "        st.success(\"Uploaded and converted successfully!\")\n",
    "        st.dataframe(df_final)\n",
    "    except Exception as e:\n",
    "        st.error(f\"Error reading file: {e}\")"
   ]
  }
 ],
 "metadata": {
  "language_info": {
   "name": "python"
  }
 },
 "nbformat": 4,
 "nbformat_minor": 5
}
